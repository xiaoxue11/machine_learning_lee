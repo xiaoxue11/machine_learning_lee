{
 "cells": [
  {
   "cell_type": "code",
   "execution_count": 18,
   "metadata": {},
   "outputs": [],
   "source": [
    "import numpy as np\n",
    "import pandas as pd\n",
    "import scipy as sci\n",
    "import matplotlib.pyplot as plt"
   ]
  },
  {
   "cell_type": "code",
   "execution_count": 19,
   "metadata": {},
   "outputs": [],
   "source": [
    "train=pd.read_csv('./train.csv')\n",
    "test=pd.read_csv('./test.csv',header=None)"
   ]
  },
  {
   "cell_type": "code",
   "execution_count": 22,
   "metadata": {},
   "outputs": [],
   "source": [
    "train_data=train[train['observation']=='PM2.5']\n",
    "test_data=test[test[1]=='PM2.5']"
   ]
  },
  {
   "cell_type": "code",
   "execution_count": 23,
   "metadata": {},
   "outputs": [
    {
     "data": {
      "text/html": [
       "<div>\n",
       "<style scoped>\n",
       "    .dataframe tbody tr th:only-of-type {\n",
       "        vertical-align: middle;\n",
       "    }\n",
       "\n",
       "    .dataframe tbody tr th {\n",
       "        vertical-align: top;\n",
       "    }\n",
       "\n",
       "    .dataframe thead th {\n",
       "        text-align: right;\n",
       "    }\n",
       "</style>\n",
       "<table border=\"1\" class=\"dataframe\">\n",
       "  <thead>\n",
       "    <tr style=\"text-align: right;\">\n",
       "      <th></th>\n",
       "      <th>Date</th>\n",
       "      <th>stations</th>\n",
       "      <th>observation</th>\n",
       "      <th>0</th>\n",
       "      <th>1</th>\n",
       "      <th>2</th>\n",
       "      <th>3</th>\n",
       "      <th>4</th>\n",
       "      <th>5</th>\n",
       "      <th>6</th>\n",
       "      <th>...</th>\n",
       "      <th>14</th>\n",
       "      <th>15</th>\n",
       "      <th>16</th>\n",
       "      <th>17</th>\n",
       "      <th>18</th>\n",
       "      <th>19</th>\n",
       "      <th>20</th>\n",
       "      <th>21</th>\n",
       "      <th>22</th>\n",
       "      <th>23</th>\n",
       "    </tr>\n",
       "  </thead>\n",
       "  <tbody>\n",
       "    <tr>\n",
       "      <th>9</th>\n",
       "      <td>2014/1/1</td>\n",
       "      <td>station</td>\n",
       "      <td>PM2.5</td>\n",
       "      <td>26</td>\n",
       "      <td>39</td>\n",
       "      <td>36</td>\n",
       "      <td>35</td>\n",
       "      <td>31</td>\n",
       "      <td>28</td>\n",
       "      <td>25</td>\n",
       "      <td>...</td>\n",
       "      <td>36</td>\n",
       "      <td>45</td>\n",
       "      <td>42</td>\n",
       "      <td>49</td>\n",
       "      <td>45</td>\n",
       "      <td>44</td>\n",
       "      <td>41</td>\n",
       "      <td>30</td>\n",
       "      <td>24</td>\n",
       "      <td>13</td>\n",
       "    </tr>\n",
       "    <tr>\n",
       "      <th>27</th>\n",
       "      <td>2014/1/2</td>\n",
       "      <td>station</td>\n",
       "      <td>PM2.5</td>\n",
       "      <td>21</td>\n",
       "      <td>23</td>\n",
       "      <td>30</td>\n",
       "      <td>30</td>\n",
       "      <td>22</td>\n",
       "      <td>18</td>\n",
       "      <td>13</td>\n",
       "      <td>...</td>\n",
       "      <td>53</td>\n",
       "      <td>43</td>\n",
       "      <td>43</td>\n",
       "      <td>45</td>\n",
       "      <td>46</td>\n",
       "      <td>32</td>\n",
       "      <td>16</td>\n",
       "      <td>19</td>\n",
       "      <td>22</td>\n",
       "      <td>26</td>\n",
       "    </tr>\n",
       "    <tr>\n",
       "      <th>45</th>\n",
       "      <td>2014/1/3</td>\n",
       "      <td>station</td>\n",
       "      <td>PM2.5</td>\n",
       "      <td>19</td>\n",
       "      <td>25</td>\n",
       "      <td>27</td>\n",
       "      <td>20</td>\n",
       "      <td>16</td>\n",
       "      <td>14</td>\n",
       "      <td>15</td>\n",
       "      <td>...</td>\n",
       "      <td>32</td>\n",
       "      <td>36</td>\n",
       "      <td>34</td>\n",
       "      <td>45</td>\n",
       "      <td>40</td>\n",
       "      <td>41</td>\n",
       "      <td>23</td>\n",
       "      <td>29</td>\n",
       "      <td>23</td>\n",
       "      <td>37</td>\n",
       "    </tr>\n",
       "    <tr>\n",
       "      <th>63</th>\n",
       "      <td>2014/1/4</td>\n",
       "      <td>station</td>\n",
       "      <td>PM2.5</td>\n",
       "      <td>27</td>\n",
       "      <td>27</td>\n",
       "      <td>14</td>\n",
       "      <td>20</td>\n",
       "      <td>22</td>\n",
       "      <td>24</td>\n",
       "      <td>26</td>\n",
       "      <td>...</td>\n",
       "      <td>62</td>\n",
       "      <td>55</td>\n",
       "      <td>56</td>\n",
       "      <td>67</td>\n",
       "      <td>78</td>\n",
       "      <td>83</td>\n",
       "      <td>90</td>\n",
       "      <td>75</td>\n",
       "      <td>85</td>\n",
       "      <td>82</td>\n",
       "    </tr>\n",
       "    <tr>\n",
       "      <th>81</th>\n",
       "      <td>2014/1/5</td>\n",
       "      <td>station</td>\n",
       "      <td>PM2.5</td>\n",
       "      <td>80</td>\n",
       "      <td>80</td>\n",
       "      <td>76</td>\n",
       "      <td>81</td>\n",
       "      <td>75</td>\n",
       "      <td>66</td>\n",
       "      <td>70</td>\n",
       "      <td>...</td>\n",
       "      <td>64</td>\n",
       "      <td>73</td>\n",
       "      <td>57</td>\n",
       "      <td>57</td>\n",
       "      <td>53</td>\n",
       "      <td>70</td>\n",
       "      <td>70</td>\n",
       "      <td>60</td>\n",
       "      <td>68</td>\n",
       "      <td>66</td>\n",
       "    </tr>\n",
       "  </tbody>\n",
       "</table>\n",
       "<p>5 rows × 27 columns</p>\n",
       "</div>"
      ],
      "text/plain": [
       "        Date stations observation   0   1   2   3   4   5   6  ...  14  15  \\\n",
       "9   2014/1/1  station       PM2.5  26  39  36  35  31  28  25  ...  36  45   \n",
       "27  2014/1/2  station       PM2.5  21  23  30  30  22  18  13  ...  53  43   \n",
       "45  2014/1/3  station       PM2.5  19  25  27  20  16  14  15  ...  32  36   \n",
       "63  2014/1/4  station       PM2.5  27  27  14  20  22  24  26  ...  62  55   \n",
       "81  2014/1/5  station       PM2.5  80  80  76  81  75  66  70  ...  64  73   \n",
       "\n",
       "    16  17  18  19  20  21  22  23  \n",
       "9   42  49  45  44  41  30  24  13  \n",
       "27  43  45  46  32  16  19  22  26  \n",
       "45  34  45  40  41  23  29  23  37  \n",
       "63  56  67  78  83  90  75  85  82  \n",
       "81  57  57  53  70  70  60  68  66  \n",
       "\n",
       "[5 rows x 27 columns]"
      ]
     },
     "execution_count": 23,
     "metadata": {},
     "output_type": "execute_result"
    }
   ],
   "source": [
    "train_data.head()"
   ]
  },
  {
   "cell_type": "code",
   "execution_count": 24,
   "metadata": {},
   "outputs": [
    {
     "data": {
      "text/plain": [
       "(240, 27)"
      ]
     },
     "execution_count": 24,
     "metadata": {},
     "output_type": "execute_result"
    }
   ],
   "source": [
    "train_data.shape"
   ]
  },
  {
   "cell_type": "code",
   "execution_count": 28,
   "metadata": {},
   "outputs": [
    {
     "data": {
      "text/html": [
       "<div>\n",
       "<style scoped>\n",
       "    .dataframe tbody tr th:only-of-type {\n",
       "        vertical-align: middle;\n",
       "    }\n",
       "\n",
       "    .dataframe tbody tr th {\n",
       "        vertical-align: top;\n",
       "    }\n",
       "\n",
       "    .dataframe thead th {\n",
       "        text-align: right;\n",
       "    }\n",
       "</style>\n",
       "<table border=\"1\" class=\"dataframe\">\n",
       "  <thead>\n",
       "    <tr style=\"text-align: right;\">\n",
       "      <th></th>\n",
       "      <th>0</th>\n",
       "      <th>1</th>\n",
       "      <th>2</th>\n",
       "      <th>3</th>\n",
       "      <th>4</th>\n",
       "      <th>5</th>\n",
       "      <th>6</th>\n",
       "      <th>7</th>\n",
       "      <th>8</th>\n",
       "      <th>9</th>\n",
       "      <th>10</th>\n",
       "    </tr>\n",
       "  </thead>\n",
       "  <tbody>\n",
       "    <tr>\n",
       "      <th>9</th>\n",
       "      <td>id_0</td>\n",
       "      <td>PM2.5</td>\n",
       "      <td>27</td>\n",
       "      <td>13</td>\n",
       "      <td>24</td>\n",
       "      <td>29</td>\n",
       "      <td>41</td>\n",
       "      <td>30</td>\n",
       "      <td>29</td>\n",
       "      <td>27</td>\n",
       "      <td>28</td>\n",
       "    </tr>\n",
       "    <tr>\n",
       "      <th>27</th>\n",
       "      <td>id_1</td>\n",
       "      <td>PM2.5</td>\n",
       "      <td>46</td>\n",
       "      <td>47</td>\n",
       "      <td>57</td>\n",
       "      <td>78</td>\n",
       "      <td>84</td>\n",
       "      <td>76</td>\n",
       "      <td>59</td>\n",
       "      <td>61</td>\n",
       "      <td>61</td>\n",
       "    </tr>\n",
       "    <tr>\n",
       "      <th>45</th>\n",
       "      <td>id_2</td>\n",
       "      <td>PM2.5</td>\n",
       "      <td>10</td>\n",
       "      <td>10</td>\n",
       "      <td>25</td>\n",
       "      <td>34</td>\n",
       "      <td>40</td>\n",
       "      <td>39</td>\n",
       "      <td>36</td>\n",
       "      <td>25</td>\n",
       "      <td>22</td>\n",
       "    </tr>\n",
       "    <tr>\n",
       "      <th>63</th>\n",
       "      <td>id_3</td>\n",
       "      <td>PM2.5</td>\n",
       "      <td>71</td>\n",
       "      <td>58</td>\n",
       "      <td>51</td>\n",
       "      <td>41</td>\n",
       "      <td>41</td>\n",
       "      <td>46</td>\n",
       "      <td>43</td>\n",
       "      <td>34</td>\n",
       "      <td>29</td>\n",
       "    </tr>\n",
       "    <tr>\n",
       "      <th>81</th>\n",
       "      <td>id_4</td>\n",
       "      <td>PM2.5</td>\n",
       "      <td>13</td>\n",
       "      <td>23</td>\n",
       "      <td>18</td>\n",
       "      <td>10</td>\n",
       "      <td>5</td>\n",
       "      <td>5</td>\n",
       "      <td>13</td>\n",
       "      <td>9</td>\n",
       "      <td>12</td>\n",
       "    </tr>\n",
       "  </tbody>\n",
       "</table>\n",
       "</div>"
      ],
      "text/plain": [
       "      0      1   2   3   4   5   6   7   8   9   10\n",
       "9   id_0  PM2.5  27  13  24  29  41  30  29  27  28\n",
       "27  id_1  PM2.5  46  47  57  78  84  76  59  61  61\n",
       "45  id_2  PM2.5  10  10  25  34  40  39  36  25  22\n",
       "63  id_3  PM2.5  71  58  51  41  41  46  43  34  29\n",
       "81  id_4  PM2.5  13  23  18  10   5   5  13   9  12"
      ]
     },
     "execution_count": 28,
     "metadata": {},
     "output_type": "execute_result"
    }
   ],
   "source": [
    "test_data.head()"
   ]
  },
  {
   "cell_type": "code",
   "execution_count": 29,
   "metadata": {},
   "outputs": [
    {
     "data": {
      "text/plain": [
       "(240, 11)"
      ]
     },
     "execution_count": 29,
     "metadata": {},
     "output_type": "execute_result"
    }
   ],
   "source": [
    "test_data.shape"
   ]
  },
  {
   "cell_type": "markdown",
   "metadata": {},
   "source": [
    "## obtain train data"
   ]
  },
  {
   "cell_type": "code",
   "execution_count": 32,
   "metadata": {},
   "outputs": [
    {
     "name": "stdout",
     "output_type": "stream",
     "text": [
      "<class 'pandas.core.frame.DataFrame'>\n",
      "Int64Index: 240 entries, 9 to 4311\n",
      "Data columns (total 27 columns):\n",
      "Date           240 non-null object\n",
      "stations       240 non-null object\n",
      "observation    240 non-null object\n",
      "0              240 non-null object\n",
      "1              240 non-null object\n",
      "2              240 non-null object\n",
      "3              240 non-null object\n",
      "4              240 non-null object\n",
      "5              240 non-null object\n",
      "6              240 non-null object\n",
      "7              240 non-null object\n",
      "8              240 non-null object\n",
      "9              240 non-null object\n",
      "10             240 non-null object\n",
      "11             240 non-null object\n",
      "12             240 non-null object\n",
      "13             240 non-null object\n",
      "14             240 non-null object\n",
      "15             240 non-null object\n",
      "16             240 non-null object\n",
      "17             240 non-null object\n",
      "18             240 non-null object\n",
      "19             240 non-null object\n",
      "20             240 non-null object\n",
      "21             240 non-null object\n",
      "22             240 non-null object\n",
      "23             240 non-null object\n",
      "dtypes: object(27)\n",
      "memory usage: 52.5+ KB\n"
     ]
    }
   ],
   "source": [
    "train_data.info()"
   ]
  },
  {
   "cell_type": "code",
   "execution_count": 33,
   "metadata": {},
   "outputs": [
    {
     "name": "stdout",
     "output_type": "stream",
     "text": [
      "<class 'pandas.core.frame.DataFrame'>\n",
      "Int64Index: 240 entries, 9 to 4311\n",
      "Data columns (total 11 columns):\n",
      "0     240 non-null object\n",
      "1     240 non-null object\n",
      "2     240 non-null object\n",
      "3     240 non-null object\n",
      "4     240 non-null object\n",
      "5     240 non-null object\n",
      "6     240 non-null object\n",
      "7     240 non-null object\n",
      "8     240 non-null object\n",
      "9     240 non-null object\n",
      "10    240 non-null object\n",
      "dtypes: object(11)\n",
      "memory usage: 22.5+ KB\n"
     ]
    }
   ],
   "source": [
    "test_data.info()"
   ]
  },
  {
   "cell_type": "code",
   "execution_count": 34,
   "metadata": {},
   "outputs": [
    {
     "name": "stderr",
     "output_type": "stream",
     "text": [
      "E:\\Anaconda3\\envs\\python35\\lib\\site-packages\\ipykernel_launcher.py:2: SettingWithCopyWarning: \n",
      "A value is trying to be set on a copy of a slice from a DataFrame.\n",
      "Try using .loc[row_indexer,col_indexer] = value instead\n",
      "\n",
      "See the caveats in the documentation: http://pandas.pydata.org/pandas-docs/stable/indexing.html#indexing-view-versus-copy\n",
      "  \n"
     ]
    }
   ],
   "source": [
    "for i in train_data.columns[3:]:\n",
    "    train_data[i]=train_data[i].apply(float)"
   ]
  },
  {
   "cell_type": "code",
   "execution_count": 37,
   "metadata": {},
   "outputs": [
    {
     "name": "stdout",
     "output_type": "stream",
     "text": [
      "<class 'pandas.core.frame.DataFrame'>\n",
      "Int64Index: 240 entries, 9 to 4311\n",
      "Data columns (total 27 columns):\n",
      "Date           240 non-null object\n",
      "stations       240 non-null object\n",
      "observation    240 non-null object\n",
      "0              240 non-null float64\n",
      "1              240 non-null float64\n",
      "2              240 non-null float64\n",
      "3              240 non-null float64\n",
      "4              240 non-null float64\n",
      "5              240 non-null float64\n",
      "6              240 non-null float64\n",
      "7              240 non-null float64\n",
      "8              240 non-null float64\n",
      "9              240 non-null float64\n",
      "10             240 non-null float64\n",
      "11             240 non-null float64\n",
      "12             240 non-null float64\n",
      "13             240 non-null float64\n",
      "14             240 non-null float64\n",
      "15             240 non-null float64\n",
      "16             240 non-null float64\n",
      "17             240 non-null float64\n",
      "18             240 non-null float64\n",
      "19             240 non-null float64\n",
      "20             240 non-null float64\n",
      "21             240 non-null float64\n",
      "22             240 non-null float64\n",
      "23             240 non-null float64\n",
      "dtypes: float64(24), object(3)\n",
      "memory usage: 52.5+ KB\n"
     ]
    }
   ],
   "source": [
    "train_data.info()"
   ]
  },
  {
   "cell_type": "code",
   "execution_count": 36,
   "metadata": {},
   "outputs": [
    {
     "name": "stderr",
     "output_type": "stream",
     "text": [
      "E:\\Anaconda3\\envs\\python35\\lib\\site-packages\\ipykernel_launcher.py:2: SettingWithCopyWarning: \n",
      "A value is trying to be set on a copy of a slice from a DataFrame.\n",
      "Try using .loc[row_indexer,col_indexer] = value instead\n",
      "\n",
      "See the caveats in the documentation: http://pandas.pydata.org/pandas-docs/stable/indexing.html#indexing-view-versus-copy\n",
      "  \n"
     ]
    }
   ],
   "source": [
    "for i in test_data.columns[2:]:\n",
    "    test_data[i]=test_data[i].apply(float)"
   ]
  },
  {
   "cell_type": "code",
   "execution_count": 38,
   "metadata": {},
   "outputs": [
    {
     "name": "stdout",
     "output_type": "stream",
     "text": [
      "<class 'pandas.core.frame.DataFrame'>\n",
      "Int64Index: 240 entries, 9 to 4311\n",
      "Data columns (total 11 columns):\n",
      "0     240 non-null object\n",
      "1     240 non-null object\n",
      "2     240 non-null float64\n",
      "3     240 non-null float64\n",
      "4     240 non-null float64\n",
      "5     240 non-null float64\n",
      "6     240 non-null float64\n",
      "7     240 non-null float64\n",
      "8     240 non-null float64\n",
      "9     240 non-null float64\n",
      "10    240 non-null float64\n",
      "dtypes: float64(9), object(2)\n",
      "memory usage: 22.5+ KB\n"
     ]
    }
   ],
   "source": [
    "test_data.info()"
   ]
  },
  {
   "cell_type": "code",
   "execution_count": 46,
   "metadata": {},
   "outputs": [],
   "source": [
    "train_array=train_data.values[:,3:]\n",
    "test_array=test_data.values[:,2:]"
   ]
  },
  {
   "cell_type": "code",
   "execution_count": 57,
   "metadata": {},
   "outputs": [],
   "source": [
    "X_train=[]\n",
    "y_train=[]\n",
    "for i in range(15):\n",
    "    X_train.extend(train_array[:,i:i+9])\n",
    "    y_train.extend(train_array[:,i+9])"
   ]
  },
  {
   "cell_type": "code",
   "execution_count": 78,
   "metadata": {},
   "outputs": [],
   "source": [
    "X_train=np.array(X_train,dtype=np.float64)\n",
    "y_train=np.array(y_train,dtype=np.float64)"
   ]
  },
  {
   "cell_type": "code",
   "execution_count": 79,
   "metadata": {},
   "outputs": [
    {
     "data": {
      "text/plain": [
       "((3600, 9), (3600,))"
      ]
     },
     "execution_count": 79,
     "metadata": {},
     "output_type": "execute_result"
    }
   ],
   "source": [
    "X_train.shape,y_train.shape"
   ]
  },
  {
   "cell_type": "code",
   "execution_count": 90,
   "metadata": {},
   "outputs": [],
   "source": [
    "def costfunction(x,y,theta):\n",
    "    m=np.size(y)\n",
    "    J=1/(2*m)*sum((np.dot(x,theta)-y)**2)\n",
    "    return J\n",
    "def gradient_descent(x,y,theta,alpha,num_iter):\n",
    "    costs=[]\n",
    "    m=np.size(y)\n",
    "    for i in range(num_iter): \n",
    "        grad=alpha/m*np.dot(x.T,(np.dot(x,theta)-y))\n",
    "        theta=theta-grad\n",
    "        cost=costfunction(X,y,theta)\n",
    "        costs.append(cost)\n",
    "    plt.figure()\n",
    "    plt.plot(costs)\n",
    "    return theta"
   ]
  },
  {
   "cell_type": "code",
   "execution_count": 81,
   "metadata": {},
   "outputs": [],
   "source": [
    "mean=np.mean(X_train,axis=0)\n",
    "std=np.std(X_train,axis=0)\n",
    "X=(X_train-mean)/std"
   ]
  },
  {
   "cell_type": "code",
   "execution_count": 87,
   "metadata": {},
   "outputs": [],
   "source": [
    "m,n=X.shape\n",
    "X=np.c_[np.ones(m),X]\n",
    "y=y_train.reshape(-1,1)"
   ]
  },
  {
   "cell_type": "code",
   "execution_count": 88,
   "metadata": {},
   "outputs": [
    {
     "data": {
      "text/plain": [
       "array([438.05763889])"
      ]
     },
     "execution_count": 88,
     "metadata": {},
     "output_type": "execute_result"
    }
   ],
   "source": [
    "theta=np.zeros([10,1])\n",
    "cost=costfunction(X,y,theta)\n",
    "cost"
   ]
  },
  {
   "cell_type": "code",
   "execution_count": 101,
   "metadata": {},
   "outputs": [
    {
     "data": {
      "image/png": "[encoded data removed]",
      "text/plain": [
       "<Figure size 432x288 with 1 Axes>"
      ]
     },
     "metadata": {
      "needs_background": "light"
     },
     "output_type": "display_data"
    }
   ],
   "source": [
    "new_theta=gradient_descent(X,y,theta,alpha=0.01,num_iter=1000)"
   ]
  },
  {
   "cell_type": "code",
   "execution_count": 102,
   "metadata": {},
   "outputs": [
    {
     "data": {
      "text/plain": [
       "array([24.24554763])"
      ]
     },
     "execution_count": 102,
     "metadata": {},
     "output_type": "execute_result"
    }
   ],
   "source": [
    "cost=costfunction(X,y,new_theta)\n",
    "cost"
   ]
  },
  {
   "cell_type": "code",
   "execution_count": 103,
   "metadata": {},
   "outputs": [],
   "source": [
    "test_array=np.array(test_array,dtype=np.float64)\n",
    "mean=np.mean(test_array,axis=0)\n",
    "std=np.std(test_array,axis=0)\n",
    "test_values=(test_array-mean)/std"
   ]
  },
  {
   "cell_type": "code",
   "execution_count": 104,
   "metadata": {},
   "outputs": [
    {
     "data": {
      "text/plain": [
       "(240, 9)"
      ]
     },
     "execution_count": 104,
     "metadata": {},
     "output_type": "execute_result"
    }
   ],
   "source": [
    "test_values.shape"
   ]
  },
  {
   "cell_type": "code",
   "execution_count": 105,
   "metadata": {},
   "outputs": [],
   "source": [
    "m=test_values.shape[0]\n",
    "test_values=np.c_[np.ones(m),test_values]\n",
    "y_pred=np.dot(test_values,new_theta)"
   ]
  },
  {
   "cell_type": "code",
   "execution_count": 106,
   "metadata": {},
   "outputs": [],
   "source": [
    "submit=pd.read_csv('sampleSubmission.csv')\n",
    "submit['value']=y_pred\n",
    "submit.to_csv('sampleSubmission.csv',index=False)"
   ]
  }
 ],
 "metadata": {
  "kernelspec": {
   "display_name": "Python 3",
   "language": "python",
   "name": "python3"
  },
  "language_info": {
   "codemirror_mode": {
    "name": "ipython",
    "version": 3
   },
   "file_extension": ".py",
   "mimetype": "text/x-python",
   "name": "python",
   "nbconvert_exporter": "python",
   "pygments_lexer": "ipython3",
   "version": "3.6.8"
  }
 },
 "nbformat": 4,
 "nbformat_minor": 2
}
