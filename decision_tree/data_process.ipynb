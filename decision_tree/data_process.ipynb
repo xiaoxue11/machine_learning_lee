{
 "cells": [
  {
   "cell_type": "code",
   "execution_count": 12,
   "metadata": {},
   "outputs": [],
   "source": [
    "import pandas as pd"
   ]
  },
  {
   "cell_type": "code",
   "execution_count": 13,
   "metadata": {},
   "outputs": [],
   "source": [
    "def calc_entropy(dataSet):\n",
    "    m=len(dataSet)\n",
    "    labelcounts={}\n",
    "    for i in range(m):\n",
    "        label=dataSet[i][-1]\n",
    "        labelcounts[label]=labelcounts.get(label,0)+1\n",
    "    entropy=0.0\n",
    "    for counts in labelcounts.values():\n",
    "        prob=counts/m\n",
    "        entropy-=prob*np.log2(prob)\n",
    "    return entropy"
   ]
  },
  {
   "cell_type": "code",
   "execution_count": 14,
   "metadata": {},
   "outputs": [],
   "source": [
    "#根据值提取数据函数\n",
    "def splitDataSet(dataSet,axis,value):\n",
    "    retDataSet = []\n",
    "    for featVec in dataSet:\n",
    "        if featVec[axis] == value:\n",
    "            reducedFeatVec = featVec[:axis]\n",
    "            reducedFeatVec1 = list(reducedFeatVec)\n",
    "            reducedFeatVec1.extend(featVec[axis+1:])\n",
    "            retDataSet.append(reducedFeatVec1)\n",
    "    return retDataSet"
   ]
  },
  {
   "cell_type": "code",
   "execution_count": 15,
   "metadata": {},
   "outputs": [],
   "source": [
    "#二分处理连续数据\n",
    "def splitContinuousDataSet(dataSet,axis,value,direction):\n",
    "\n",
    "    retDataSet = []\n",
    "    for featVec in dataSet:\n",
    "        if direction == 0:\n",
    "            if featVec[axis] > value:\n",
    "                reducedFeatVec = featVec[:axis]\n",
    "                reducedFeatVec = list(reducedFeatVec)\n",
    "                reducedFeatVec.extend(featVec[axis+1:])\n",
    "                retDataSet.append(reducedFeatVec)\n",
    "        else:\n",
    "            if featVec[axis] <= value:\n",
    "                reducedFeatVec = featVec[:axis]\n",
    "                reducedFeatVec = list(reducedFeatVec)\n",
    "                reducedFeatVec.extend(featVec[axis+1:])\n",
    "                retDataSet.append(reducedFeatVec) \n",
    "    return retDataSet"
   ]
  },
  {
   "cell_type": "code",
   "execution_count": 16,
   "metadata": {},
   "outputs": [],
   "source": [
    "#选择最好属性划分\n",
    "\n",
    "def chooseBestFeatureToSplit(dataSet,labels):\n",
    "    '''\n",
    "    dataSet__带划分的数据集\n",
    "    labels__标签\n",
    "    '''\n",
    "    bestFeature = -1       #初始化\n",
    "    bestInfoGain = 0.0\n",
    "    baseEntropy = calcShannonEnt(dataSet)\n",
    "    numFeatures = len(dataSet) - 1\n",
    "    \n",
    "    for i in range(numFeatures):\n",
    "        featList = [example[i] for example in dataSet]\n",
    "        if type(featList[0]).__name__ == 'float' or type(featList[0]).__name__ == 'int':\n",
    "            sortFeatList = sorted(featList)\n",
    "            splitList = []\n",
    "            for j in range(len(sortFeatList)-1):\n",
    "                splitList.append((sortFeatList[j]+sortFeatList[j+1])/2.0)\n",
    "                \n",
    "            bestSplitEntropy = 10000\n",
    "            slen = len(splitList)\n",
    "            for j in range(slen):\n",
    "                value = splitList[j]\n",
    "                newEntropy = 0.0\n",
    "                subDataSet0 = splitContinuousDataSet(dataSet,i,value,0)\n",
    "                subDataSet1 = splitContinuousDataSet(dataSet,i,value,1)\n",
    "                \n",
    "                #计算条件熵\n",
    "                prob0 = len(subDataSet0)/len(dataSet)\n",
    "                newEntropy += prob0 * calcShannonEnt(subDataSet0)\n",
    "                \n",
    "                prob1 = len(subDataSet1)/len(dataSet)\n",
    "                newEntropy += prob1 * calcShannonEnt(subDataSet1)\n",
    "                \n",
    "                if newEntropy < bestSplitEntropy:\n",
    "                    bestSplitEntropy = newEntropy\n",
    "                    bestSplit = j\n",
    "                bestSplitDict = {}\n",
    "                bestSplitDict[labels[i]] = bestSplitDict[bestSplit]\n",
    "                \n",
    "                infoGain = baseEntropy - bestSplitEntropy\n",
    "        else:\n",
    "            uniqueVals = set(featList)\n",
    "            newEntropy = 0.0\n",
    "            \n",
    "            for value in uniqueVals:\n",
    "                subDataSet = splitDataSet(dataSet,i,value)\n",
    "                prob = len(subDataSet)/float(len(dataSet))\n",
    "                \n",
    "                newEntropy += prob *calcShannonEnt(subDataSet)\n",
    "            infoGain = baseEntropy - newEntropy\n",
    "        if infoGain > bestInfoGain:\n",
    "            bestInfoGain = infoGain\n",
    "            bestFeature = i\n",
    "        return bestFeature"
   ]
  },
  {
   "cell_type": "code",
   "execution_count": 17,
   "metadata": {},
   "outputs": [],
   "source": [
    "# 若特征已经划分完，节点下的样本还没有统一取值，则需要进行投票\n",
    "def majorityCnt(classList):\n",
    "    classCount = {}\n",
    "    for vote in classList:\n",
    "        if vote not in classCount.key():\n",
    "            classCount[vote] = 0\n",
    "        classCount[vote] += 1\n",
    "    return max(classCount)"
   ]
  },
  {
   "cell_type": "code",
   "execution_count": 18,
   "metadata": {},
   "outputs": [],
   "source": [
    "#递归生成决策树\n",
    "\n",
    "def createTree(dataSet,labels):\n",
    "    '''\n",
    "        递归的几个出口：\n",
    "        标签完成相同，则直接返回该类标签\n",
    "        使用完了所有特征，仍然不能将数据划分成仅包含唯一类别的分组\n",
    "        则使用majorityCnt函数挑选次数出现最多的类别作为返回值\n",
    "    '''\n",
    "    \n",
    "    classList = [example[-1] for example in dataSet]\n",
    "    if classList.count(classList[0]) == len(classList):\n",
    "        return classList[0]\n",
    "    \n",
    "    if len(dataSet) == 1:\n",
    "        return majorityCnt(classList)\n",
    "    \n",
    "    bestFeat = chooseBestFeatureToSplit(dataSet,labels)\n",
    "    bestFeatLabel = labels[bestFeat]\n",
    "    myTree = {bestFeatLabel:{}}\n",
    "\n",
    "    del(labels[bestFeatLabel])\n",
    "    \n",
    "    featValues = [example[bestFeat] for example in dataSet]\n",
    "    uniqueVals = set(featValues)\n",
    "    for value in uniqueVals:\n",
    "        subLabels = labels[:]       #copy all of labels, so trees don't mess up existing labels\n",
    "        myTree[bestFeatLabel][value] = createTree(splitDataSet(dataSet, bestFeat, value),subLabels)\n",
    "    return myTree"
   ]
  },
  {
   "cell_type": "code",
   "execution_count": 47,
   "metadata": {},
   "outputs": [
    {
     "data": {
      "text/plain": [
       "[1, 1, 1, 1, 1, 1, 1, 1, 0, 0, 0, 0, 0, 0, 0, 0, 0]"
      ]
     },
     "execution_count": 47,
     "metadata": {},
     "output_type": "execute_result"
    }
   ],
   "source": [
    "data=pd.read_csv('watermelon_3a.csv')\n",
    "dataSet = data.loc[:,'color':'sugar_ratio']\n",
    "#dataSet = data.loc[:,'color':]\n",
    "labels = data.loc[:,'label']\n",
    "dataSet = dataSet.values.tolist()\n",
    "labels = labels.values.tolist()\n",
    "labels"
   ]
  },
  {
   "cell_type": "code",
   "execution_count": 48,
   "metadata": {},
   "outputs": [
    {
     "data": {
      "text/plain": [
       "4.08746284125034"
      ]
     },
     "execution_count": 48,
     "metadata": {},
     "output_type": "execute_result"
    }
   ],
   "source": [
    "entropy=calcShannonEnt(dataSet)\n",
    "entropy"
   ]
  },
  {
   "cell_type": "code",
   "execution_count": 49,
   "metadata": {},
   "outputs": [
    {
     "data": {
      "text/plain": [
       "0"
      ]
     },
     "execution_count": 49,
     "metadata": {},
     "output_type": "execute_result"
    }
   ],
   "source": [
    "chooseBestFeatureToSplit(dataSet,labels)"
   ]
  },
  {
   "cell_type": "code",
   "execution_count": 50,
   "metadata": {},
   "outputs": [
    {
     "data": {
      "text/plain": [
       "{1: {'light_white': {1: {'stiff': 0.057,\n",
       "    'little_curl_up': 0.198,\n",
       "    'curl_up': {0: {0.215: 0.215, 0.099: 0.099, 0.042: 0.042}}}},\n",
       "  'dark_green': {1: {'stiff': 0.267,\n",
       "    'little_curl_up': {0: {0.237: 0.237, 0.161: 0.161}},\n",
       "    'curl_up': {1: {'heavily': {1: {'distinct': 0.318,\n",
       "        'little_blur': 0.10300000000000001}},\n",
       "      'little_heavily': 0.46}}}},\n",
       "  'black': {1: {'little_curl_up': {1: {'heavily': 0.091,\n",
       "      'little_heavily': {1: {'distinct': {0: {0.21100000000000002: 0.21100000000000002,\n",
       "          0.37: 0.37}},\n",
       "        'little_blur': 0.149}}}},\n",
       "    'curl_up': {1: {'heavily': 0.376, 'little_heavily': 0.264}}}}}}"
      ]
     },
     "execution_count": 50,
     "metadata": {},
     "output_type": "execute_result"
    }
   ],
   "source": [
    "myTree = createTree(dataSet,labels)\n",
    "myTree"
   ]
  },
  {
   "cell_type": "code",
   "execution_count": 24,
   "metadata": {},
   "outputs": [],
   "source": [
    "import matplotlib.pyplot as plt\n",
    "decisionNode = dict(boxstyle=\"sawtooth\", fc=\"0.8\")\n",
    "leafNode = dict(boxstyle=\"round4\", fc=\"0.8\")\n",
    "arrow_args = dict(arrowstyle=\"<-\")\n",
    "\n",
    "def getNumLeafs(myTree):\n",
    "    numLeafs = 0\n",
    "    \n",
    "    firstSides = list(myTree.keys())\n",
    "    firstStr = firstSides[0]\n",
    "    secondDict = myTree[firstStr]\n",
    "    for key in secondDict.keys():\n",
    "        if type(secondDict[key]).__name__=='dict':#test to see if the nodes are dictonaires, if not they are leaf nodes\n",
    "            numLeafs += getNumLeafs(secondDict[key])\n",
    "        else:   numLeafs +=1\n",
    "    return numLeafs"
   ]
  },
  {
   "cell_type": "code",
   "execution_count": 25,
   "metadata": {},
   "outputs": [],
   "source": [
    "def getTreeDepth(myTree):\n",
    "    maxDepth = 0\n",
    "    firstSides = list(myTree.keys())\n",
    "    firstStr = firstSides[0]\n",
    "    secondDict = myTree[firstStr]\n",
    "    for key in secondDict.keys():\n",
    "        if type(secondDict[key]).__name__=='dict':#test to see if the nodes are dictonaires, if not they are leaf nodes\n",
    "            thisDepth = 1 + getTreeDepth(secondDict[key])\n",
    "        else:   thisDepth = 1\n",
    "        if thisDepth > maxDepth: maxDepth = thisDepth\n",
    "    return maxDepth"
   ]
  },
  {
   "cell_type": "code",
   "execution_count": 26,
   "metadata": {},
   "outputs": [],
   "source": [
    "def plotNode(nodeTxt, centerPt, parentPt, nodeType):\n",
    "    createPlot.ax1.annotate(nodeTxt, xy=parentPt,  xycoords='axes fraction',\n",
    "             xytext=centerPt, textcoords='axes fraction',\n",
    "             va=\"center\", ha=\"center\", bbox=nodeType, arrowprops=arrow_args )"
   ]
  },
  {
   "cell_type": "code",
   "execution_count": 27,
   "metadata": {},
   "outputs": [],
   "source": [
    "def plotMidText(cntrPt, parentPt, txtString):\n",
    "    xMid = (parentPt[0]-cntrPt[0])/2.0 + cntrPt[0]\n",
    "    yMid = (parentPt[1]-cntrPt[1])/2.0 + cntrPt[1]\n",
    "    createPlot.ax1.text(xMid, yMid, txtString, va=\"center\", ha=\"center\", rotation=30)"
   ]
  },
  {
   "cell_type": "code",
   "execution_count": 28,
   "metadata": {},
   "outputs": [],
   "source": [
    "def plotTree(myTree, parentPt, nodeTxt):#if the first key tells you what feat was split on\n",
    "    numLeafs = getNumLeafs(myTree)  #this determines the x width of this tree\n",
    "    depth = getTreeDepth(myTree)\n",
    "    firstSides = list(myTree.keys())\n",
    "    firstStr = firstSides[0]     #the text label for this node should be this\n",
    "    cntrPt = (plotTree.xOff + (1.0 + float(numLeafs))/2.0/plotTree.totalW, plotTree.yOff)\n",
    "    plotMidText(cntrPt, parentPt, nodeTxt)\n",
    "    plotNode(firstStr, cntrPt, parentPt, decisionNode)\n",
    "    secondDict = myTree[firstStr]\n",
    "    plotTree.yOff = plotTree.yOff - 1.0/plotTree.totalD\n",
    "    for key in secondDict.keys():\n",
    "        if type(secondDict[key]).__name__=='dict':#test to see if the nodes are dictonaires, if not they are leaf nodes   \n",
    "            plotTree(secondDict[key],cntrPt,str(key))        #recursion\n",
    "        else:   #it's a leaf node print the leaf node\n",
    "            plotTree.xOff = plotTree.xOff + 1.0/plotTree.totalW\n",
    "            plotNode(secondDict[key], (plotTree.xOff, plotTree.yOff), cntrPt, leafNode)\n",
    "            plotMidText((plotTree.xOff, plotTree.yOff), cntrPt, str(key))\n",
    "    plotTree.yOff = plotTree.yOff + 1.0/plotTree.totalD"
   ]
  },
  {
   "cell_type": "code",
   "execution_count": 29,
   "metadata": {},
   "outputs": [],
   "source": [
    "def createPlot(inTree):\n",
    "    fig = plt.figure(1, facecolor='white')\n",
    "    fig.clf()\n",
    "    axprops = dict(xticks=[], yticks=[])\n",
    "    createPlot.ax1 = plt.subplot(111, frameon=False, **axprops)    #no ticks\n",
    "    #createPlot.ax1 = plt.subplot(111, frameon=False) #ticks for demo puropses \n",
    "    plotTree.totalW = float(getNumLeafs(inTree))\n",
    "    plotTree.totalD = float(getTreeDepth(inTree))\n",
    "    plotTree.xOff = -0.5/plotTree.totalW; plotTree.yOff = 1.0;\n",
    "    plotTree(inTree, (0.5,1.0), '')\n",
    "    plt.show()    "
   ]
  },
  {
   "cell_type": "code",
   "execution_count": 30,
   "metadata": {},
   "outputs": [],
   "source": [
    "def retrieveTree(i):\n",
    "    listOfTrees =[{1: {'black': {1: {'little_curl_up': {1: {'heavily': 0.091,\n",
    "      'little_heavily': {1: {'distinct': {0: {0.21100000000000002: 0.21100000000000002,\n",
    "          0.37: 0.37}},\n",
    "        'little_blur': 0.149}}}},\n",
    "    'curl_up': {1: {'heavily': 0.376, 'little_heavily': 0.264}}}},\n",
    "  'light_white': {1: {'little_curl_up': 0.198,\n",
    "    'curl_up': {0: {0.215: 0.215, 0.099: 0.099, 0.042: 0.042}},\n",
    "    'stiff': 0.057}},\n",
    "  'dark_green': {1: {'little_curl_up': {0: {0.237: 0.237, 0.161: 0.161}},\n",
    "    'curl_up': {1: {'heavily': {1: {'distinct': 0.318,\n",
    "        'little_blur': 0.10300000000000001}},\n",
    "      'little_heavily': 0.46}},\n",
    "    'stiff': 0.267}}}}\n",
    "                  ]\n",
    "    return listOfTrees[i]"
   ]
  },
  {
   "cell_type": "code",
   "execution_count": 31,
   "metadata": {},
   "outputs": [],
   "source": [
    "def classify(inputTree,featLabels,testVec):\n",
    "    firstSides = list(inputTree.keys())\n",
    "    firstStr = firstSides[0]\n",
    "    \n",
    "    secondDict = inputTree[firstStr]\n",
    "    featIndex = featLabels.index(firstStr)\n",
    "    key = testVec[featIndex]\n",
    "    valueOfFeat = secondDict[key]\n",
    "    if isinstance(valueOfFeat, dict): \n",
    "        classLabel = classify(valueOfFeat, featLabels, testVec)\n",
    "    else: classLabel = valueOfFeat\n",
    "    return classLabel"
   ]
  },
  {
   "cell_type": "code",
   "execution_count": 32,
   "metadata": {},
   "outputs": [],
   "source": [
    "def storeTree(inputTree,filename):\n",
    "    import pickle\n",
    "    fw = open(filename,'w')\n",
    "    pickle.dump(inputTree,fw)\n",
    "    fw.close()\n",
    "    \n",
    "def grabTree(filename):\n",
    "    import pickle\n",
    "    fr = open(filename)\n",
    "    return pickle.load(fr)"
   ]
  },
  {
   "cell_type": "code",
   "execution_count": 33,
   "metadata": {},
   "outputs": [
    {
     "data": {
      "image/png": "[encoded data removed]",
      "text/plain": [
       "<Figure size 432x288 with 1 Axes>"
      ]
     },
     "metadata": {},
     "output_type": "display_data"
    }
   ],
   "source": [
    "createPlot(myTree)"
   ]
  }
 ],
 "metadata": {
  "kernelspec": {
   "display_name": "Python 3",
   "language": "python",
   "name": "python3"
  },
  "language_info": {
   "codemirror_mode": {
    "name": "ipython",
    "version": 3
   },
   "file_extension": ".py",
   "mimetype": "text/x-python",
   "name": "python",
   "nbconvert_exporter": "python",
   "pygments_lexer": "ipython3",
   "version": "3.6.8"
  }
 },
 "nbformat": 4,
 "nbformat_minor": 2
}
