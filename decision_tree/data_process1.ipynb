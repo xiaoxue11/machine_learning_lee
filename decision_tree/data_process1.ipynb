{
 "cells": [
  {
   "cell_type": "code",
   "execution_count": 6,
   "metadata": {},
   "outputs": [
    {
     "data": {
      "text/html": [
       "<div>\n",
       "<style scoped>\n",
       "    .dataframe tbody tr th:only-of-type {\n",
       "        vertical-align: middle;\n",
       "    }\n",
       "\n",
       "    .dataframe tbody tr th {\n",
       "        vertical-align: top;\n",
       "    }\n",
       "\n",
       "    .dataframe thead th {\n",
       "        text-align: right;\n",
       "    }\n",
       "</style>\n",
       "<table border=\"1\" class=\"dataframe\">\n",
       "  <thead>\n",
       "    <tr style=\"text-align: right;\">\n",
       "      <th></th>\n",
       "      <th>Idx</th>\n",
       "      <th>color</th>\n",
       "      <th>root</th>\n",
       "      <th>knocks</th>\n",
       "      <th>texture</th>\n",
       "      <th>navel</th>\n",
       "      <th>touch</th>\n",
       "      <th>density</th>\n",
       "      <th>sugar_ratio</th>\n",
       "      <th>label</th>\n",
       "    </tr>\n",
       "  </thead>\n",
       "  <tbody>\n",
       "    <tr>\n",
       "      <th>0</th>\n",
       "      <td>1</td>\n",
       "      <td>dark_green</td>\n",
       "      <td>curl_up</td>\n",
       "      <td>little_heavily</td>\n",
       "      <td>distinct</td>\n",
       "      <td>sinking</td>\n",
       "      <td>hard_smooth</td>\n",
       "      <td>0.697</td>\n",
       "      <td>0.460</td>\n",
       "      <td>1</td>\n",
       "    </tr>\n",
       "    <tr>\n",
       "      <th>1</th>\n",
       "      <td>2</td>\n",
       "      <td>black</td>\n",
       "      <td>curl_up</td>\n",
       "      <td>heavily</td>\n",
       "      <td>distinct</td>\n",
       "      <td>sinking</td>\n",
       "      <td>hard_smooth</td>\n",
       "      <td>0.774</td>\n",
       "      <td>0.376</td>\n",
       "      <td>1</td>\n",
       "    </tr>\n",
       "    <tr>\n",
       "      <th>2</th>\n",
       "      <td>3</td>\n",
       "      <td>black</td>\n",
       "      <td>curl_up</td>\n",
       "      <td>little_heavily</td>\n",
       "      <td>distinct</td>\n",
       "      <td>sinking</td>\n",
       "      <td>hard_smooth</td>\n",
       "      <td>0.634</td>\n",
       "      <td>0.264</td>\n",
       "      <td>1</td>\n",
       "    </tr>\n",
       "    <tr>\n",
       "      <th>3</th>\n",
       "      <td>4</td>\n",
       "      <td>dark_green</td>\n",
       "      <td>curl_up</td>\n",
       "      <td>heavily</td>\n",
       "      <td>distinct</td>\n",
       "      <td>sinking</td>\n",
       "      <td>hard_smooth</td>\n",
       "      <td>0.608</td>\n",
       "      <td>0.318</td>\n",
       "      <td>1</td>\n",
       "    </tr>\n",
       "    <tr>\n",
       "      <th>4</th>\n",
       "      <td>5</td>\n",
       "      <td>light_white</td>\n",
       "      <td>curl_up</td>\n",
       "      <td>little_heavily</td>\n",
       "      <td>distinct</td>\n",
       "      <td>sinking</td>\n",
       "      <td>hard_smooth</td>\n",
       "      <td>0.556</td>\n",
       "      <td>0.215</td>\n",
       "      <td>1</td>\n",
       "    </tr>\n",
       "    <tr>\n",
       "      <th>5</th>\n",
       "      <td>6</td>\n",
       "      <td>dark_green</td>\n",
       "      <td>little_curl_up</td>\n",
       "      <td>little_heavily</td>\n",
       "      <td>distinct</td>\n",
       "      <td>little_sinking</td>\n",
       "      <td>soft_stick</td>\n",
       "      <td>0.403</td>\n",
       "      <td>0.237</td>\n",
       "      <td>1</td>\n",
       "    </tr>\n",
       "    <tr>\n",
       "      <th>6</th>\n",
       "      <td>7</td>\n",
       "      <td>black</td>\n",
       "      <td>little_curl_up</td>\n",
       "      <td>little_heavily</td>\n",
       "      <td>little_blur</td>\n",
       "      <td>little_sinking</td>\n",
       "      <td>soft_stick</td>\n",
       "      <td>0.481</td>\n",
       "      <td>0.149</td>\n",
       "      <td>1</td>\n",
       "    </tr>\n",
       "    <tr>\n",
       "      <th>7</th>\n",
       "      <td>8</td>\n",
       "      <td>black</td>\n",
       "      <td>little_curl_up</td>\n",
       "      <td>little_heavily</td>\n",
       "      <td>distinct</td>\n",
       "      <td>little_sinking</td>\n",
       "      <td>hard_smooth</td>\n",
       "      <td>0.437</td>\n",
       "      <td>0.211</td>\n",
       "      <td>1</td>\n",
       "    </tr>\n",
       "    <tr>\n",
       "      <th>8</th>\n",
       "      <td>9</td>\n",
       "      <td>black</td>\n",
       "      <td>little_curl_up</td>\n",
       "      <td>heavily</td>\n",
       "      <td>little_blur</td>\n",
       "      <td>little_sinking</td>\n",
       "      <td>hard_smooth</td>\n",
       "      <td>0.666</td>\n",
       "      <td>0.091</td>\n",
       "      <td>0</td>\n",
       "    </tr>\n",
       "    <tr>\n",
       "      <th>9</th>\n",
       "      <td>10</td>\n",
       "      <td>dark_green</td>\n",
       "      <td>stiff</td>\n",
       "      <td>clear</td>\n",
       "      <td>distinct</td>\n",
       "      <td>even</td>\n",
       "      <td>soft_stick</td>\n",
       "      <td>0.243</td>\n",
       "      <td>0.267</td>\n",
       "      <td>0</td>\n",
       "    </tr>\n",
       "    <tr>\n",
       "      <th>10</th>\n",
       "      <td>11</td>\n",
       "      <td>light_white</td>\n",
       "      <td>stiff</td>\n",
       "      <td>clear</td>\n",
       "      <td>blur</td>\n",
       "      <td>even</td>\n",
       "      <td>hard_smooth</td>\n",
       "      <td>0.245</td>\n",
       "      <td>0.057</td>\n",
       "      <td>0</td>\n",
       "    </tr>\n",
       "    <tr>\n",
       "      <th>11</th>\n",
       "      <td>12</td>\n",
       "      <td>light_white</td>\n",
       "      <td>curl_up</td>\n",
       "      <td>little_heavily</td>\n",
       "      <td>blur</td>\n",
       "      <td>even</td>\n",
       "      <td>soft_stick</td>\n",
       "      <td>0.343</td>\n",
       "      <td>0.099</td>\n",
       "      <td>0</td>\n",
       "    </tr>\n",
       "    <tr>\n",
       "      <th>12</th>\n",
       "      <td>13</td>\n",
       "      <td>dark_green</td>\n",
       "      <td>little_curl_up</td>\n",
       "      <td>little_heavily</td>\n",
       "      <td>little_blur</td>\n",
       "      <td>sinking</td>\n",
       "      <td>hard_smooth</td>\n",
       "      <td>0.639</td>\n",
       "      <td>0.161</td>\n",
       "      <td>0</td>\n",
       "    </tr>\n",
       "    <tr>\n",
       "      <th>13</th>\n",
       "      <td>14</td>\n",
       "      <td>light_white</td>\n",
       "      <td>little_curl_up</td>\n",
       "      <td>heavily</td>\n",
       "      <td>little_blur</td>\n",
       "      <td>sinking</td>\n",
       "      <td>hard_smooth</td>\n",
       "      <td>0.657</td>\n",
       "      <td>0.198</td>\n",
       "      <td>0</td>\n",
       "    </tr>\n",
       "    <tr>\n",
       "      <th>14</th>\n",
       "      <td>15</td>\n",
       "      <td>black</td>\n",
       "      <td>little_curl_up</td>\n",
       "      <td>little_heavily</td>\n",
       "      <td>distinct</td>\n",
       "      <td>little_sinking</td>\n",
       "      <td>soft_stick</td>\n",
       "      <td>0.360</td>\n",
       "      <td>0.370</td>\n",
       "      <td>0</td>\n",
       "    </tr>\n",
       "    <tr>\n",
       "      <th>15</th>\n",
       "      <td>16</td>\n",
       "      <td>light_white</td>\n",
       "      <td>curl_up</td>\n",
       "      <td>little_heavily</td>\n",
       "      <td>blur</td>\n",
       "      <td>even</td>\n",
       "      <td>hard_smooth</td>\n",
       "      <td>0.593</td>\n",
       "      <td>0.042</td>\n",
       "      <td>0</td>\n",
       "    </tr>\n",
       "    <tr>\n",
       "      <th>16</th>\n",
       "      <td>17</td>\n",
       "      <td>dark_green</td>\n",
       "      <td>curl_up</td>\n",
       "      <td>heavily</td>\n",
       "      <td>little_blur</td>\n",
       "      <td>little_sinking</td>\n",
       "      <td>hard_smooth</td>\n",
       "      <td>0.719</td>\n",
       "      <td>0.103</td>\n",
       "      <td>0</td>\n",
       "    </tr>\n",
       "  </tbody>\n",
       "</table>\n",
       "</div>"
      ],
      "text/plain": [
       "    Idx        color            root          knocks      texture  \\\n",
       "0     1   dark_green         curl_up  little_heavily     distinct   \n",
       "1     2        black         curl_up         heavily     distinct   \n",
       "2     3        black         curl_up  little_heavily     distinct   \n",
       "3     4   dark_green         curl_up         heavily     distinct   \n",
       "4     5  light_white         curl_up  little_heavily     distinct   \n",
       "5     6   dark_green  little_curl_up  little_heavily     distinct   \n",
       "6     7        black  little_curl_up  little_heavily  little_blur   \n",
       "7     8        black  little_curl_up  little_heavily     distinct   \n",
       "8     9        black  little_curl_up         heavily  little_blur   \n",
       "9    10   dark_green           stiff           clear     distinct   \n",
       "10   11  light_white           stiff           clear         blur   \n",
       "11   12  light_white         curl_up  little_heavily         blur   \n",
       "12   13   dark_green  little_curl_up  little_heavily  little_blur   \n",
       "13   14  light_white  little_curl_up         heavily  little_blur   \n",
       "14   15        black  little_curl_up  little_heavily     distinct   \n",
       "15   16  light_white         curl_up  little_heavily         blur   \n",
       "16   17   dark_green         curl_up         heavily  little_blur   \n",
       "\n",
       "             navel        touch  density  sugar_ratio  label  \n",
       "0          sinking  hard_smooth    0.697        0.460      1  \n",
       "1          sinking  hard_smooth    0.774        0.376      1  \n",
       "2          sinking  hard_smooth    0.634        0.264      1  \n",
       "3          sinking  hard_smooth    0.608        0.318      1  \n",
       "4          sinking  hard_smooth    0.556        0.215      1  \n",
       "5   little_sinking   soft_stick    0.403        0.237      1  \n",
       "6   little_sinking   soft_stick    0.481        0.149      1  \n",
       "7   little_sinking  hard_smooth    0.437        0.211      1  \n",
       "8   little_sinking  hard_smooth    0.666        0.091      0  \n",
       "9             even   soft_stick    0.243        0.267      0  \n",
       "10            even  hard_smooth    0.245        0.057      0  \n",
       "11            even   soft_stick    0.343        0.099      0  \n",
       "12         sinking  hard_smooth    0.639        0.161      0  \n",
       "13         sinking  hard_smooth    0.657        0.198      0  \n",
       "14  little_sinking   soft_stick    0.360        0.370      0  \n",
       "15            even  hard_smooth    0.593        0.042      0  \n",
       "16  little_sinking  hard_smooth    0.719        0.103      0  "
      ]
     },
     "execution_count": 6,
     "metadata": {},
     "output_type": "execute_result"
    }
   ],
   "source": [
    "import numpy as np\n",
    "import pandas as pd\n",
    "data=pd.read_csv('watermelon_3a.csv')\n",
    "data"
   ]
  },
  {
   "cell_type": "code",
   "execution_count": 14,
   "metadata": {},
   "outputs": [
    {
     "data": {
      "text/plain": [
       "[1, 1, 1, 1, 1, 1, 1, 1, 0, 0, 0, 0, 0, 0, 0, 0, 0]"
      ]
     },
     "execution_count": 14,
     "metadata": {},
     "output_type": "execute_result"
    }
   ],
   "source": [
    "dataSet = data.loc[:,'color':]\n",
    "labels = data.loc[:,'label']\n",
    "dataSet = dataSet.values.tolist()\n",
    "labels = labels.values.tolist()\n",
    "labels"
   ]
  },
  {
   "cell_type": "code",
   "execution_count": 15,
   "metadata": {},
   "outputs": [
    {
     "data": {
      "text/plain": [
       "(17, 9)"
      ]
     },
     "execution_count": 15,
     "metadata": {},
     "output_type": "execute_result"
    }
   ],
   "source": [
    "len(dataSet),len(dataSet[0])"
   ]
  },
  {
   "cell_type": "code",
   "execution_count": 21,
   "metadata": {},
   "outputs": [],
   "source": [
    "def calcShannonEnt(dataSet):\n",
    "    m=len(dataSet)\n",
    "    labelcounts={}\n",
    "    for i in range(m):\n",
    "        label=dataSet[i][-1]\n",
    "        labelcounts[label]=labelcounts.get(label,0)+1\n",
    "    entropy=0.0\n",
    "    for counts in labelcounts.values():\n",
    "        prob=counts/m\n",
    "        entropy-=prob*np.log2(prob)\n",
    "    return entropy"
   ]
  },
  {
   "cell_type": "code",
   "execution_count": 22,
   "metadata": {},
   "outputs": [
    {
     "data": {
      "text/plain": [
       "0.9975025463691153"
      ]
     },
     "execution_count": 22,
     "metadata": {},
     "output_type": "execute_result"
    }
   ],
   "source": [
    "calcShannonEnt(dataSet)"
   ]
  },
  {
   "cell_type": "code",
   "execution_count": 18,
   "metadata": {},
   "outputs": [],
   "source": [
    "def splitDataSet(dataSet,axis,value):\n",
    "    retDataSet = []\n",
    "    for featVec in dataSet:\n",
    "        if featVec[axis] == value:\n",
    "            reducedFeatVec = featVec[:axis]\n",
    "            reducedFeatVec1 = list(reducedFeatVec)\n",
    "            reducedFeatVec1.extend(featVec[axis+1:])\n",
    "            retDataSet.append(reducedFeatVec1)\n",
    "    return retDataSet"
   ]
  },
  {
   "cell_type": "code",
   "execution_count": 19,
   "metadata": {},
   "outputs": [
    {
     "data": {
      "text/plain": [
       "[['curl_up',\n",
       "  'little_heavily',\n",
       "  'distinct',\n",
       "  'sinking',\n",
       "  'hard_smooth',\n",
       "  0.556,\n",
       "  0.215,\n",
       "  1],\n",
       " ['stiff', 'clear', 'blur', 'even', 'hard_smooth', 0.245, 0.057, 0],\n",
       " ['curl_up',\n",
       "  'little_heavily',\n",
       "  'blur',\n",
       "  'even',\n",
       "  'soft_stick',\n",
       "  0.34299999999999997,\n",
       "  0.099,\n",
       "  0],\n",
       " ['little_curl_up',\n",
       "  'heavily',\n",
       "  'little_blur',\n",
       "  'sinking',\n",
       "  'hard_smooth',\n",
       "  0.657,\n",
       "  0.198,\n",
       "  0],\n",
       " ['curl_up', 'little_heavily', 'blur', 'even', 'hard_smooth', 0.593, 0.042, 0]]"
      ]
     },
     "execution_count": 19,
     "metadata": {},
     "output_type": "execute_result"
    }
   ],
   "source": [
    "splitDataSet(dataSet,0,'light_white')"
   ]
  },
  {
   "cell_type": "code",
   "execution_count": 23,
   "metadata": {},
   "outputs": [],
   "source": [
    "#二分处理连续数据\n",
    "def splitContinuousDataSet(dataSet,axis,value,direction):\n",
    "    retDataSet = []\n",
    "    for featVec in dataSet:\n",
    "        if direction == 0:\n",
    "            if featVec[axis] > value:\n",
    "                reducedFeatVec = featVec[:axis]\n",
    "                reducedFeatVec = list(reducedFeatVec)\n",
    "                reducedFeatVec.extend(featVec[axis+1:])\n",
    "                retDataSet.append(reducedFeatVec)\n",
    "        else:\n",
    "            if featVec[axis] <= value:\n",
    "                reducedFeatVec = featVec[:axis]\n",
    "                reducedFeatVec = list(reducedFeatVec)\n",
    "                reducedFeatVec.extend(featVec[axis+1:])\n",
    "                retDataSet.append(reducedFeatVec) \n",
    "    return retDataSet"
   ]
  },
  {
   "cell_type": "code",
   "execution_count": 24,
   "metadata": {},
   "outputs": [],
   "source": [
    "def chooseBestFeatureToSplit(dataSet,labels):\n",
    "    bestFeature = -1\n",
    "    bestInfoGain = 0.0\n",
    "    baseEntropy = calc_entropy(dataSet)\n",
    "    numFeatures = len(dataSet[0]) - 1 \n",
    "    for i in range(numFeatures):\n",
    "        featList = [example[i] for example in dataSet]\n",
    "        if type(featList[0]).__name__ == 'float' or type(featList[0]).__name__ == 'int':\n",
    "            sortFeatList = sorted(featList)\n",
    "            splitList = []\n",
    "            for j in range(len(sortFeatList)-1):\n",
    "                splitList.append((sortFeatList[j]+sortFeatList[j+1])/2.0)                \n",
    "            bestSplitEntropy = 10000\n",
    "            slen = len(splitList)\n",
    "            for j in range(slen):\n",
    "                value = splitList[j]\n",
    "                newEntropy = 0.0\n",
    "                subDataSet0 = splitContinuousDataSet(dataSet,i,value,0)\n",
    "                subDataSet1 = splitContinuousDataSet(dataSet,i,value,1)               \n",
    "                #计算条件熵\n",
    "                prob0 = len(subDataSet0)/len(dataSet)\n",
    "                newEntropy += prob0 * calcShannonEnt(subDataSet0)\n",
    "                \n",
    "                prob1 = len(subDataSet1)/len(dataSet)\n",
    "                newEntropy += prob1 * calcShannonEnt(subDataSet1)\n",
    "                \n",
    "                if newEntropy < bestSplitEntropy:\n",
    "                    bestSplitEntropy = newEntropy\n",
    "                    bestSplit = j\n",
    "                bestSplitDict = {}\n",
    "                bestSplitDict[labels[i]] = bestSplitDict[bestSplit]\n",
    "                \n",
    "                infoGain = baseEntropy - bestSplitEntropy\n",
    "        else:\n",
    "            uniqueVals = set(featList)\n",
    "            newEntropy = 0.0\n",
    "            \n",
    "            for value in uniqueVals:\n",
    "                subDataSet = splitDataSet(dataSet,i,value)\n",
    "                prob = len(subDataSet)/float(len(dataSet))\n",
    "                \n",
    "                newEntropy += prob *calcShannonEnt(subDataSet)\n",
    "            infoGain = baseEntropy - newEntropy\n",
    "        if infoGain > bestInfoGain:\n",
    "            bestInfoGain = infoGain\n",
    "            bestFeature = i\n",
    "        return bestFeature"
   ]
  },
  {
   "cell_type": "code",
   "execution_count": 26,
   "metadata": {},
   "outputs": [],
   "source": [
    "# 若特征已经划分完，节点下的样本还没有统一取值，则需要进行投票\n",
    "def majorityCnt(classList):\n",
    "    classcounts={}\n",
    "    for label in classList:\n",
    "        classcounts[label]=classcounts.get(label,0)\n",
    "    sorted_counts=sorted(classcounts.items(),key=lambda x:x[1],reverse=True)\n",
    "    return sorted_counts[0][0]"
   ]
  },
  {
   "cell_type": "code",
   "execution_count": 27,
   "metadata": {},
   "outputs": [],
   "source": [
    "#递归生成决策树\n",
    "def createTree(dataSet,labels):\n",
    "    classList = [example[-1] for example in dataSet]\n",
    "    if classList.count(classList[0]) == len(classList):\n",
    "        return classList[0]\n",
    "    \n",
    "    if len(dataSet[0]) == 1:\n",
    "        return majorityCnt(classList)\n",
    "    \n",
    "    bestFeat = chooseBestFeatureToSplit(dataSet,labels)\n",
    "    bestFeatLabel = labels[bestFeat]\n",
    "    myTree = {bestFeatLabel:{}}\n",
    "\n",
    "    del(labels[bestFeatLabel])\n",
    "    \n",
    "    featValues = [example[bestFeat] for example in dataSet]\n",
    "    uniqueVals = set(featValues)\n",
    "    for value in uniqueVals:\n",
    "        subLabels = labels[:]       #copy all of labels, so trees don't mess up existing labels\n",
    "        myTree[bestFeatLabel][value] = createTree(splitDataSet(dataSet, bestFeat, value),subLabels)\n",
    "    return myTree"
   ]
  },
  {
   "cell_type": "code",
   "execution_count": 28,
   "metadata": {},
   "outputs": [
    {
     "data": {
      "text/plain": [
       "0"
      ]
     },
     "execution_count": 28,
     "metadata": {},
     "output_type": "execute_result"
    }
   ],
   "source": [
    "chooseBestFeatureToSplit(dataSet,labels)"
   ]
  },
  {
   "cell_type": "code",
   "execution_count": 29,
   "metadata": {},
   "outputs": [
    {
     "data": {
      "text/plain": [
       "{1: {'light_white': {1: {'stiff': 0,\n",
       "    'little_curl_up': 0,\n",
       "    'curl_up': {0: {0: 0, 1: 1}}}},\n",
       "  'black': {1: {'little_curl_up': {1: {'little_heavily': {1: {'little_blur': 1,\n",
       "        'distinct': {0: {0: 0, 1: 1}}}},\n",
       "      'heavily': 0}},\n",
       "    'curl_up': 1}},\n",
       "  'dark_green': {1: {'stiff': 0,\n",
       "    'little_curl_up': {0: {0: 0, 1: 1}},\n",
       "    'curl_up': {1: {'little_heavily': 1,\n",
       "      'heavily': {1: {'little_blur': 0, 'distinct': 1}}}}}}}}"
      ]
     },
     "execution_count": 29,
     "metadata": {},
     "output_type": "execute_result"
    }
   ],
   "source": [
    "myTree = createTree(dataSet,labels)\n",
    "myTree"
   ]
  },
  {
   "cell_type": "code",
   "execution_count": 30,
   "metadata": {},
   "outputs": [],
   "source": [
    "import matplotlib.pyplot as plt\n",
    "decisionNode = dict(boxstyle=\"sawtooth\", fc=\"0.8\")\n",
    "leafNode = dict(boxstyle=\"round4\", fc=\"0.8\")\n",
    "arrow_args = dict(arrowstyle=\"<-\")\n",
    "\n",
    "def getNumLeafs(myTree):\n",
    "    numLeafs = 0\n",
    "    \n",
    "    firstSides = list(myTree.keys())\n",
    "    firstStr = firstSides[0]\n",
    "    secondDict = myTree[firstStr]\n",
    "    for key in secondDict.keys():\n",
    "        if type(secondDict[key]).__name__=='dict':#test to see if the nodes are dictonaires, if not they are leaf nodes\n",
    "            numLeafs += getNumLeafs(secondDict[key])\n",
    "        else:   numLeafs +=1\n",
    "    return numLeafs"
   ]
  },
  {
   "cell_type": "code",
   "execution_count": 31,
   "metadata": {},
   "outputs": [],
   "source": [
    "def getTreeDepth(myTree):\n",
    "    maxDepth = 0\n",
    "    firstSides = list(myTree.keys())\n",
    "    firstStr = firstSides[0]\n",
    "    secondDict = myTree[firstStr]\n",
    "    for key in secondDict.keys():\n",
    "        if type(secondDict[key]).__name__=='dict':#test to see if the nodes are dictonaires, if not they are leaf nodes\n",
    "            thisDepth = 1 + getTreeDepth(secondDict[key])\n",
    "        else:   thisDepth = 1\n",
    "        if thisDepth > maxDepth: maxDepth = thisDepth\n",
    "    return maxDepth"
   ]
  },
  {
   "cell_type": "code",
   "execution_count": 32,
   "metadata": {},
   "outputs": [],
   "source": [
    "def plotNode(nodeTxt, centerPt, parentPt, nodeType):\n",
    "    createPlot.ax1.annotate(nodeTxt, xy=parentPt,  xycoords='axes fraction',\n",
    "             xytext=centerPt, textcoords='axes fraction',\n",
    "             va=\"center\", ha=\"center\", bbox=nodeType, arrowprops=arrow_args )"
   ]
  },
  {
   "cell_type": "code",
   "execution_count": 33,
   "metadata": {},
   "outputs": [],
   "source": [
    "def plotMidText(cntrPt, parentPt, txtString):\n",
    "    xMid = (parentPt[0]-cntrPt[0])/2.0 + cntrPt[0]\n",
    "    yMid = (parentPt[1]-cntrPt[1])/2.0 + cntrPt[1]\n",
    "    createPlot.ax1.text(xMid, yMid, txtString, va=\"center\", ha=\"center\", rotation=30)"
   ]
  },
  {
   "cell_type": "code",
   "execution_count": 34,
   "metadata": {},
   "outputs": [],
   "source": [
    "def plotTree(myTree, parentPt, nodeTxt):#if the first key tells you what feat was split on\n",
    "    numLeafs = getNumLeafs(myTree)  #this determines the x width of this tree\n",
    "    depth = getTreeDepth(myTree)\n",
    "    firstSides = list(myTree.keys())\n",
    "    firstStr = firstSides[0]     #the text label for this node should be this\n",
    "    cntrPt = (plotTree.xOff + (1.0 + float(numLeafs))/2.0/plotTree.totalW, plotTree.yOff)\n",
    "    plotMidText(cntrPt, parentPt, nodeTxt)\n",
    "    plotNode(firstStr, cntrPt, parentPt, decisionNode)\n",
    "    secondDict = myTree[firstStr]\n",
    "    plotTree.yOff = plotTree.yOff - 1.0/plotTree.totalD\n",
    "    for key in secondDict.keys():\n",
    "        if type(secondDict[key]).__name__=='dict':#test to see if the nodes are dictonaires, if not they are leaf nodes   \n",
    "            plotTree(secondDict[key],cntrPt,str(key))        #recursion\n",
    "        else:   #it's a leaf node print the leaf node\n",
    "            plotTree.xOff = plotTree.xOff + 1.0/plotTree.totalW\n",
    "            plotNode(secondDict[key], (plotTree.xOff, plotTree.yOff), cntrPt, leafNode)\n",
    "            plotMidText((plotTree.xOff, plotTree.yOff), cntrPt, str(key))\n",
    "    plotTree.yOff = plotTree.yOff + 1.0/plotTree.totalD"
   ]
  },
  {
   "cell_type": "code",
   "execution_count": 35,
   "metadata": {},
   "outputs": [],
   "source": [
    "def createPlot(inTree):\n",
    "    fig = plt.figure(1, facecolor='white')\n",
    "    fig.clf()\n",
    "    axprops = dict(xticks=[], yticks=[])\n",
    "    createPlot.ax1 = plt.subplot(111, frameon=False, **axprops)    #no ticks\n",
    "    #createPlot.ax1 = plt.subplot(111, frameon=False) #ticks for demo puropses \n",
    "    plotTree.totalW = float(getNumLeafs(inTree))\n",
    "    plotTree.totalD = float(getTreeDepth(inTree))\n",
    "    plotTree.xOff = -0.5/plotTree.totalW; plotTree.yOff = 1.0;\n",
    "    plotTree(inTree, (0.5,1.0), '')\n",
    "    plt.show()    "
   ]
  },
  {
   "cell_type": "code",
   "execution_count": 31,
   "metadata": {},
   "outputs": [],
   "source": [
    "def classify(inputTree,featLabels,testVec):\n",
    "    firstSides = list(inputTree.keys())\n",
    "    firstStr = firstSides[0]\n",
    "    \n",
    "    secondDict = inputTree[firstStr]\n",
    "    featIndex = featLabels.index(firstStr)\n",
    "    key = testVec[featIndex]\n",
    "    valueOfFeat = secondDict[key]\n",
    "    if isinstance(valueOfFeat, dict): \n",
    "        classLabel = classify(valueOfFeat, featLabels, testVec)\n",
    "    else: classLabel = valueOfFeat\n",
    "    return classLabel"
   ]
  },
  {
   "cell_type": "code",
   "execution_count": 32,
   "metadata": {},
   "outputs": [],
   "source": [
    "def storeTree(inputTree,filename):\n",
    "    import pickle\n",
    "    fw = open(filename,'w')\n",
    "    pickle.dump(inputTree,fw)\n",
    "    fw.close()\n",
    "    \n",
    "def grabTree(filename):\n",
    "    import pickle\n",
    "    fr = open(filename)\n",
    "    return pickle.load(fr)"
   ]
  },
  {
   "cell_type": "code",
   "execution_count": 36,
   "metadata": {},
   "outputs": [
    {
     "data": {
      "image/png": "[encoded data removed]",
      "text/plain": [
       "<Figure size 432x288 with 1 Axes>"
      ]
     },
     "metadata": {},
     "output_type": "display_data"
    }
   ],
   "source": [
    "createPlot(myTree)"
   ]
  }
 ],
 "metadata": {
  "kernelspec": {
   "display_name": "Python 3",
   "language": "python",
   "name": "python3"
  },
  "language_info": {
   "codemirror_mode": {
    "name": "ipython",
    "version": 3
   },
   "file_extension": ".py",
   "mimetype": "text/x-python",
   "name": "python",
   "nbconvert_exporter": "python",
   "pygments_lexer": "ipython3",
   "version": "3.6.8"
  }
 },
 "nbformat": 4,
 "nbformat_minor": 2
}
